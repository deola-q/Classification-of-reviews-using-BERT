{
  "metadata": {
    "kernelspec": {
      "language": "python",
      "display_name": "Python 3",
      "name": "python3"
    },
    "language_info": {
      "name": "python",
      "version": "3.10.13",
      "mimetype": "text/x-python",
      "codemirror_mode": {
        "name": "ipython",
        "version": 3
      },
      "pygments_lexer": "ipython3",
      "nbconvert_exporter": "python",
      "file_extension": ".py"
    },
    "kaggle": {
      "accelerator": "gpu",
      "dataSources": [
        {
          "sourceId": 16290,
          "sourceType": "datasetVersion",
          "datasetId": 11827
        }
      ],
      "dockerImageVersionId": 30747,
      "isInternetEnabled": true,
      "language": "python",
      "sourceType": "notebook",
      "isGpuEnabled": true
    },
    "colab": {
      "provenance": [],
      "toc_visible": true
    }
  },
  "nbformat_minor": 0,
  "nbformat": 4,
  "cells": [
    {
      "cell_type": "code",
      "source": [
        "%%capture\n",
        "!pip install --upgrade seaborn\n",
        "!pip install -qq transformers datasets\n",
        "!pip install pyarrow==11.0.0"
      ],
      "metadata": {
        "execution": {
          "iopub.status.busy": "2024-08-21T15:18:39.195185Z",
          "iopub.execute_input": "2024-08-21T15:18:39.195523Z",
          "iopub.status.idle": "2024-08-21T15:19:32.616090Z",
          "shell.execute_reply.started": "2024-08-21T15:18:39.195457Z",
          "shell.execute_reply": "2024-08-21T15:19:32.615064Z"
        },
        "trusted": true,
        "id": "vfzQnKlErPni"
      },
      "execution_count": null,
      "outputs": []
    },
    {
      "cell_type": "code",
      "source": [
        "import pandas as pd\n",
        "import numpy as np\n",
        "import seaborn as sns\n",
        "import matplotlib.pyplot as plt\n",
        "import re\n",
        "import nltk\n",
        "from nltk.corpus import stopwords\n",
        "from nltk.tokenize import word_tokenize\n",
        "from transformers import AutoTokenizer, AutoModel, AutoModelForSequenceClassification, AdamW, get_scheduler\n",
        "import torch\n",
        "from datasets import load_dataset, load_metric\n",
        "from tqdm.auto import tqdm\n",
        "from tqdm.notebook import tqdm"
      ],
      "metadata": {
        "execution": {
          "iopub.status.busy": "2024-08-21T15:19:35.509884Z",
          "iopub.execute_input": "2024-08-21T15:19:35.510260Z",
          "iopub.status.idle": "2024-08-21T15:19:41.903345Z",
          "shell.execute_reply.started": "2024-08-21T15:19:35.510230Z",
          "shell.execute_reply": "2024-08-21T15:19:41.902595Z"
        },
        "trusted": true,
        "id": "zqHBOL8ErPnj"
      },
      "execution_count": null,
      "outputs": []
    },
    {
      "cell_type": "markdown",
      "source": [
        "# Data Describtion"
      ],
      "metadata": {
        "id": "-pDw4BTZrPnj"
      }
    },
    {
      "cell_type": "markdown",
      "source": [
        "**Clothing ID**: Integer Categorical variable that refers to the specific piece being reviewed.<p>\n",
        "**Age**: Positive Integer variable of the reviewers age.<p>\n",
        "**Title**: String variable for the title of the review.<p>\n",
        "**Review Text**: String variable for the review body.<p>\n",
        "**Rating**: Positive Ordinal Integer variable for the product score granted by the customer from 1 Worst, to 5 Best.<p>\n",
        "**Recommended IND**: Binary variable stating where the customer recommends the product where 1 is recommended, 0 is not recommended.<p>\n",
        "**Positive Feedback Count**: Positive Integer documenting the number of other customers who found this review positive.<p>\n",
        "**Division Name**: Categorical name of the product high level division.<p>\n",
        "**Department Name**: Categorical name of the product department name.<p>\n",
        "**Class Name**: Categorical name of the product class name.<p>"
      ],
      "metadata": {
        "id": "0Ux0OZX5rPnk"
      }
    },
    {
      "cell_type": "code",
      "source": [
        "train_data = pd.read_csv('/kaggle/input/womens-ecommerce-clothing-reviews/Womens Clothing E-Commerce Reviews.csv')\n",
        "train_data.sample(5)"
      ],
      "metadata": {
        "execution": {
          "iopub.status.busy": "2024-08-21T15:19:46.580396Z",
          "iopub.execute_input": "2024-08-21T15:19:46.580951Z",
          "iopub.status.idle": "2024-08-21T15:19:46.818274Z",
          "shell.execute_reply.started": "2024-08-21T15:19:46.580924Z",
          "shell.execute_reply": "2024-08-21T15:19:46.817344Z"
        },
        "trusted": true,
        "id": "xp9upGrarPnl",
        "outputId": "5613199e-b0cb-4005-cb95-0bce05e90da7"
      },
      "execution_count": null,
      "outputs": [
        {
          "execution_count": 3,
          "output_type": "execute_result",
          "data": {
            "text/plain": "       Unnamed: 0  Clothing ID  Age                      Title  \\\n14880       14880          445   33         Cartagena cover-up   \n15291       15291         1078   53                        NaN   \n10998       10998         1008   33  Elegant, modern, and fun!   \n1811         1811          994   35   Feminine, romantic skirt   \n9048         9048         1035   54                        NaN   \n\n                                             Review Text  Rating  \\\n14880  I love this cover-up. it does feel big when yo...       4   \n15291  This dress is good quality but the designers t...       4   \n10998  I ordered this beautiful sweater skirt in peti...       5   \n1811   This skirt caught my eye immediately. i love t...       5   \n9048   I tried on these jeans in the store because th...       4   \n\n       Recommended IND  Positive Feedback Count   Division Name  \\\n14880                1                        3       Initmates   \n15291                0                        0         General   \n10998                1                        2         General   \n1811                 1                        2  General Petite   \n9048                 1                        1  General Petite   \n\n      Department Name Class Name  \n14880        Intimate       Swim  \n15291         Dresses    Dresses  \n10998         Bottoms     Skirts  \n1811          Bottoms     Skirts  \n9048          Bottoms      Jeans  ",
            "text/html": "<div>\n<style scoped>\n    .dataframe tbody tr th:only-of-type {\n        vertical-align: middle;\n    }\n\n    .dataframe tbody tr th {\n        vertical-align: top;\n    }\n\n    .dataframe thead th {\n        text-align: right;\n    }\n</style>\n<table border=\"1\" class=\"dataframe\">\n  <thead>\n    <tr style=\"text-align: right;\">\n      <th></th>\n      <th>Unnamed: 0</th>\n      <th>Clothing ID</th>\n      <th>Age</th>\n      <th>Title</th>\n      <th>Review Text</th>\n      <th>Rating</th>\n      <th>Recommended IND</th>\n      <th>Positive Feedback Count</th>\n      <th>Division Name</th>\n      <th>Department Name</th>\n      <th>Class Name</th>\n    </tr>\n  </thead>\n  <tbody>\n    <tr>\n      <th>14880</th>\n      <td>14880</td>\n      <td>445</td>\n      <td>33</td>\n      <td>Cartagena cover-up</td>\n      <td>I love this cover-up. it does feel big when yo...</td>\n      <td>4</td>\n      <td>1</td>\n      <td>3</td>\n      <td>Initmates</td>\n      <td>Intimate</td>\n      <td>Swim</td>\n    </tr>\n    <tr>\n      <th>15291</th>\n      <td>15291</td>\n      <td>1078</td>\n      <td>53</td>\n      <td>NaN</td>\n      <td>This dress is good quality but the designers t...</td>\n      <td>4</td>\n      <td>0</td>\n      <td>0</td>\n      <td>General</td>\n      <td>Dresses</td>\n      <td>Dresses</td>\n    </tr>\n    <tr>\n      <th>10998</th>\n      <td>10998</td>\n      <td>1008</td>\n      <td>33</td>\n      <td>Elegant, modern, and fun!</td>\n      <td>I ordered this beautiful sweater skirt in peti...</td>\n      <td>5</td>\n      <td>1</td>\n      <td>2</td>\n      <td>General</td>\n      <td>Bottoms</td>\n      <td>Skirts</td>\n    </tr>\n    <tr>\n      <th>1811</th>\n      <td>1811</td>\n      <td>994</td>\n      <td>35</td>\n      <td>Feminine, romantic skirt</td>\n      <td>This skirt caught my eye immediately. i love t...</td>\n      <td>5</td>\n      <td>1</td>\n      <td>2</td>\n      <td>General Petite</td>\n      <td>Bottoms</td>\n      <td>Skirts</td>\n    </tr>\n    <tr>\n      <th>9048</th>\n      <td>9048</td>\n      <td>1035</td>\n      <td>54</td>\n      <td>NaN</td>\n      <td>I tried on these jeans in the store because th...</td>\n      <td>4</td>\n      <td>1</td>\n      <td>1</td>\n      <td>General Petite</td>\n      <td>Bottoms</td>\n      <td>Jeans</td>\n    </tr>\n  </tbody>\n</table>\n</div>"
          },
          "metadata": {}
        }
      ]
    },
    {
      "cell_type": "code",
      "source": [
        "train_data.drop('Unnamed: 0', inplace=True, axis=1)"
      ],
      "metadata": {
        "execution": {
          "iopub.status.busy": "2024-08-21T15:19:46.819727Z",
          "iopub.execute_input": "2024-08-21T15:19:46.820045Z",
          "iopub.status.idle": "2024-08-21T15:19:46.830099Z",
          "shell.execute_reply.started": "2024-08-21T15:19:46.820020Z",
          "shell.execute_reply": "2024-08-21T15:19:46.829144Z"
        },
        "trusted": true,
        "id": "TpMNP60arPnm"
      },
      "execution_count": null,
      "outputs": []
    },
    {
      "cell_type": "code",
      "source": [
        "train_data.nunique()"
      ],
      "metadata": {
        "execution": {
          "iopub.status.busy": "2024-08-21T15:19:46.911991Z",
          "iopub.execute_input": "2024-08-21T15:19:46.912554Z",
          "iopub.status.idle": "2024-08-21T15:19:46.944910Z",
          "shell.execute_reply.started": "2024-08-21T15:19:46.912524Z",
          "shell.execute_reply": "2024-08-21T15:19:46.943921Z"
        },
        "trusted": true,
        "id": "I-x4dMx2rPnp",
        "outputId": "fed12101-94f9-41ea-987e-545605b2b518"
      },
      "execution_count": null,
      "outputs": [
        {
          "execution_count": 5,
          "output_type": "execute_result",
          "data": {
            "text/plain": "Clothing ID                 1206\nAge                           77\nTitle                      13993\nReview Text                22634\nRating                         5\nRecommended IND                2\nPositive Feedback Count       82\nDivision Name                  3\nDepartment Name                6\nClass Name                    20\ndtype: int64"
          },
          "metadata": {}
        }
      ]
    },
    {
      "cell_type": "markdown",
      "source": [
        "# EDA"
      ],
      "metadata": {
        "id": "Fr-vASGurPnq"
      }
    },
    {
      "cell_type": "code",
      "source": [
        "train_data.info()"
      ],
      "metadata": {
        "execution": {
          "iopub.status.busy": "2024-08-21T15:19:47.201230Z",
          "iopub.execute_input": "2024-08-21T15:19:47.202061Z",
          "iopub.status.idle": "2024-08-21T15:19:47.228645Z",
          "shell.execute_reply.started": "2024-08-21T15:19:47.202027Z",
          "shell.execute_reply": "2024-08-21T15:19:47.227655Z"
        },
        "trusted": true,
        "id": "89pVBGlLrPnr",
        "outputId": "f90f2b81-abc1-4687-fe54-9bafccab0662"
      },
      "execution_count": null,
      "outputs": [
        {
          "name": "stdout",
          "text": "<class 'pandas.core.frame.DataFrame'>\nRangeIndex: 23486 entries, 0 to 23485\nData columns (total 10 columns):\n #   Column                   Non-Null Count  Dtype \n---  ------                   --------------  ----- \n 0   Clothing ID              23486 non-null  int64 \n 1   Age                      23486 non-null  int64 \n 2   Title                    19676 non-null  object\n 3   Review Text              22641 non-null  object\n 4   Rating                   23486 non-null  int64 \n 5   Recommended IND          23486 non-null  int64 \n 6   Positive Feedback Count  23486 non-null  int64 \n 7   Division Name            23472 non-null  object\n 8   Department Name          23472 non-null  object\n 9   Class Name               23472 non-null  object\ndtypes: int64(5), object(5)\nmemory usage: 1.8+ MB\n",
          "output_type": "stream"
        }
      ]
    },
    {
      "cell_type": "markdown",
      "source": [
        "**Посмотрим на целевую переменную:**"
      ],
      "metadata": {
        "id": "gdyLK0eurPns"
      }
    },
    {
      "cell_type": "code",
      "source": [
        "print(train_data['Recommended IND'].value_counts(normalize=True))\n",
        "sns.countplot(train_data, x=train_data['Recommended IND'])"
      ],
      "metadata": {
        "execution": {
          "iopub.status.busy": "2024-08-21T15:19:47.495438Z",
          "iopub.execute_input": "2024-08-21T15:19:47.496304Z",
          "iopub.status.idle": "2024-08-21T15:19:47.833403Z",
          "shell.execute_reply.started": "2024-08-21T15:19:47.496261Z",
          "shell.execute_reply": "2024-08-21T15:19:47.832523Z"
        },
        "trusted": true,
        "id": "r89zFxgdrPnt",
        "outputId": "3bfd420d-ad3b-4ec5-ea23-10c991110f9b"
      },
      "execution_count": null,
      "outputs": [
        {
          "name": "stdout",
          "text": "Recommended IND\n1    0.822362\n0    0.177638\nName: proportion, dtype: float64\n",
          "output_type": "stream"
        },
        {
          "execution_count": 7,
          "output_type": "execute_result",
          "data": {
            "text/plain": "<Axes: xlabel='Recommended IND', ylabel='count'>"
          },
          "metadata": {}
        },
        {
          "output_type": "display_data",
          "data": {
            "text/plain": "<Figure size 640x480 with 1 Axes>",
            "image/png": "[encoded data removed]"
          },
          "metadata": {}
        }
      ]
    },
    {
      "cell_type": "markdown",
      "source": [
        "**Данные сильно не сбаналнсированы**"
      ],
      "metadata": {
        "id": "Vq_2jcpRrPnt"
      }
    },
    {
      "cell_type": "code",
      "source": [
        "train_data.isna().sum()"
      ],
      "metadata": {
        "execution": {
          "iopub.status.busy": "2024-08-21T15:19:49.149226Z",
          "iopub.execute_input": "2024-08-21T15:19:49.150121Z",
          "iopub.status.idle": "2024-08-21T15:19:49.170397Z",
          "shell.execute_reply.started": "2024-08-21T15:19:49.150084Z",
          "shell.execute_reply": "2024-08-21T15:19:49.169327Z"
        },
        "trusted": true,
        "id": "F6H4VtHPrPnu",
        "outputId": "f8b1ca2b-7262-48d1-cc5d-6f8f104acc7c"
      },
      "execution_count": null,
      "outputs": [
        {
          "execution_count": 8,
          "output_type": "execute_result",
          "data": {
            "text/plain": "Clothing ID                   0\nAge                           0\nTitle                      3810\nReview Text                 845\nRating                        0\nRecommended IND               0\nPositive Feedback Count       0\nDivision Name                14\nDepartment Name              14\nClass Name                   14\ndtype: int64"
          },
          "metadata": {}
        }
      ]
    },
    {
      "cell_type": "code",
      "source": [
        "train_data = train_data.dropna()"
      ],
      "metadata": {
        "execution": {
          "iopub.status.busy": "2024-08-21T15:19:49.328391Z",
          "iopub.execute_input": "2024-08-21T15:19:49.328784Z",
          "iopub.status.idle": "2024-08-21T15:19:49.349378Z",
          "shell.execute_reply.started": "2024-08-21T15:19:49.328753Z",
          "shell.execute_reply": "2024-08-21T15:19:49.348459Z"
        },
        "trusted": true,
        "id": "LbKqHvbWrPnu"
      },
      "execution_count": null,
      "outputs": []
    },
    {
      "cell_type": "code",
      "source": [
        "train_data.describe()"
      ],
      "metadata": {
        "execution": {
          "iopub.status.busy": "2024-08-21T15:19:49.499927Z",
          "iopub.execute_input": "2024-08-21T15:19:49.500778Z",
          "iopub.status.idle": "2024-08-21T15:19:49.526035Z",
          "shell.execute_reply.started": "2024-08-21T15:19:49.500746Z",
          "shell.execute_reply": "2024-08-21T15:19:49.525098Z"
        },
        "trusted": true,
        "id": "8CyVQ4tsrPnu",
        "outputId": "d9344b34-248f-4980-db26-0f910ef12785"
      },
      "execution_count": null,
      "outputs": [
        {
          "execution_count": 10,
          "output_type": "execute_result",
          "data": {
            "text/plain": "        Clothing ID           Age        Rating  Recommended IND  \\\ncount  19662.000000  19662.000000  19662.000000     19662.000000   \nmean     921.297274     43.260808      4.183145         0.818177   \nstd      200.227528     12.258122      1.112224         0.385708   \nmin        1.000000     18.000000      1.000000         0.000000   \n25%      861.000000     34.000000      4.000000         1.000000   \n50%      936.000000     41.000000      5.000000         1.000000   \n75%     1078.000000     52.000000      5.000000         1.000000   \nmax     1205.000000     99.000000      5.000000         1.000000   \n\n       Positive Feedback Count  \ncount             19662.000000  \nmean                  2.652477  \nstd                   5.834285  \nmin                   0.000000  \n25%                   0.000000  \n50%                   1.000000  \n75%                   3.000000  \nmax                 122.000000  ",
            "text/html": "<div>\n<style scoped>\n    .dataframe tbody tr th:only-of-type {\n        vertical-align: middle;\n    }\n\n    .dataframe tbody tr th {\n        vertical-align: top;\n    }\n\n    .dataframe thead th {\n        text-align: right;\n    }\n</style>\n<table border=\"1\" class=\"dataframe\">\n  <thead>\n    <tr style=\"text-align: right;\">\n      <th></th>\n      <th>Clothing ID</th>\n      <th>Age</th>\n      <th>Rating</th>\n      <th>Recommended IND</th>\n      <th>Positive Feedback Count</th>\n    </tr>\n  </thead>\n  <tbody>\n    <tr>\n      <th>count</th>\n      <td>19662.000000</td>\n      <td>19662.000000</td>\n      <td>19662.000000</td>\n      <td>19662.000000</td>\n      <td>19662.000000</td>\n    </tr>\n    <tr>\n      <th>mean</th>\n      <td>921.297274</td>\n      <td>43.260808</td>\n      <td>4.183145</td>\n      <td>0.818177</td>\n      <td>2.652477</td>\n    </tr>\n    <tr>\n      <th>std</th>\n      <td>200.227528</td>\n      <td>12.258122</td>\n      <td>1.112224</td>\n      <td>0.385708</td>\n      <td>5.834285</td>\n    </tr>\n    <tr>\n      <th>min</th>\n      <td>1.000000</td>\n      <td>18.000000</td>\n      <td>1.000000</td>\n      <td>0.000000</td>\n      <td>0.000000</td>\n    </tr>\n    <tr>\n      <th>25%</th>\n      <td>861.000000</td>\n      <td>34.000000</td>\n      <td>4.000000</td>\n      <td>1.000000</td>\n      <td>0.000000</td>\n    </tr>\n    <tr>\n      <th>50%</th>\n      <td>936.000000</td>\n      <td>41.000000</td>\n      <td>5.000000</td>\n      <td>1.000000</td>\n      <td>1.000000</td>\n    </tr>\n    <tr>\n      <th>75%</th>\n      <td>1078.000000</td>\n      <td>52.000000</td>\n      <td>5.000000</td>\n      <td>1.000000</td>\n      <td>3.000000</td>\n    </tr>\n    <tr>\n      <th>max</th>\n      <td>1205.000000</td>\n      <td>99.000000</td>\n      <td>5.000000</td>\n      <td>1.000000</td>\n      <td>122.000000</td>\n    </tr>\n  </tbody>\n</table>\n</div>"
          },
          "metadata": {}
        }
      ]
    },
    {
      "cell_type": "code",
      "source": [
        "num_columns = ['Age', 'Rating', 'Positive Feedback Count']\n",
        "\n",
        "fig, axes = plt.subplots(nrows=1, ncols=len(num_columns), figsize=(15, 5))\n",
        "\n",
        "for i, col in enumerate(num_columns):\n",
        "    sns.boxplot(y=train_data[col], ax=axes[i])\n",
        "    axes[i].set_title(col)\n",
        "plt.tight_layout()\n",
        "plt.show()"
      ],
      "metadata": {
        "execution": {
          "iopub.status.busy": "2024-08-21T15:19:49.657979Z",
          "iopub.execute_input": "2024-08-21T15:19:49.658314Z",
          "iopub.status.idle": "2024-08-21T15:19:50.551590Z",
          "shell.execute_reply.started": "2024-08-21T15:19:49.658287Z",
          "shell.execute_reply": "2024-08-21T15:19:50.550654Z"
        },
        "trusted": true,
        "id": "LKq6lECXrPnv",
        "outputId": "5f3899b1-87b9-4e9e-fc5a-179d6f3841ae"
      },
      "execution_count": null,
      "outputs": [
        {
          "output_type": "display_data",
          "data": {
            "text/plain": "<Figure size 1500x500 with 3 Axes>",
            "image/png": "[encoded data removed]"
          },
          "metadata": {}
        }
      ]
    },
    {
      "cell_type": "code",
      "source": [
        "train_data[train_data['Positive Feedback Count'] > 3].groupby('Recommended IND').count()"
      ],
      "metadata": {
        "execution": {
          "iopub.status.busy": "2024-08-21T15:19:50.553282Z",
          "iopub.execute_input": "2024-08-21T15:19:50.553632Z",
          "iopub.status.idle": "2024-08-21T15:19:50.571856Z",
          "shell.execute_reply.started": "2024-08-21T15:19:50.553605Z",
          "shell.execute_reply": "2024-08-21T15:19:50.570968Z"
        },
        "trusted": true,
        "id": "lI3Y2U6MrPnv",
        "outputId": "a3eee0c4-bcdc-45f3-f824-de61dc5308a1"
      },
      "execution_count": null,
      "outputs": [
        {
          "execution_count": 12,
          "output_type": "execute_result",
          "data": {
            "text/plain": "                 Clothing ID   Age  Title  Review Text  Rating  \\\nRecommended IND                                                  \n0                        962   962    962          962     962   \n1                       3087  3087   3087         3087    3087   \n\n                 Positive Feedback Count  Division Name  Department Name  \\\nRecommended IND                                                            \n0                                    962            962              962   \n1                                   3087           3087             3087   \n\n                 Class Name  \nRecommended IND              \n0                       962  \n1                      3087  ",
            "text/html": "<div>\n<style scoped>\n    .dataframe tbody tr th:only-of-type {\n        vertical-align: middle;\n    }\n\n    .dataframe tbody tr th {\n        vertical-align: top;\n    }\n\n    .dataframe thead th {\n        text-align: right;\n    }\n</style>\n<table border=\"1\" class=\"dataframe\">\n  <thead>\n    <tr style=\"text-align: right;\">\n      <th></th>\n      <th>Clothing ID</th>\n      <th>Age</th>\n      <th>Title</th>\n      <th>Review Text</th>\n      <th>Rating</th>\n      <th>Positive Feedback Count</th>\n      <th>Division Name</th>\n      <th>Department Name</th>\n      <th>Class Name</th>\n    </tr>\n    <tr>\n      <th>Recommended IND</th>\n      <th></th>\n      <th></th>\n      <th></th>\n      <th></th>\n      <th></th>\n      <th></th>\n      <th></th>\n      <th></th>\n      <th></th>\n    </tr>\n  </thead>\n  <tbody>\n    <tr>\n      <th>0</th>\n      <td>962</td>\n      <td>962</td>\n      <td>962</td>\n      <td>962</td>\n      <td>962</td>\n      <td>962</td>\n      <td>962</td>\n      <td>962</td>\n      <td>962</td>\n    </tr>\n    <tr>\n      <th>1</th>\n      <td>3087</td>\n      <td>3087</td>\n      <td>3087</td>\n      <td>3087</td>\n      <td>3087</td>\n      <td>3087</td>\n      <td>3087</td>\n      <td>3087</td>\n      <td>3087</td>\n    </tr>\n  </tbody>\n</table>\n</div>"
          },
          "metadata": {}
        }
      ]
    },
    {
      "cell_type": "markdown",
      "source": [
        "**Видим, что пользователи, написавшие отзывы, которые получили большое количество положительных оценок в большей мере с рекомендацией товара, такая тенденция отслеживается и при увеличении границы (здесь - 3)**"
      ],
      "metadata": {
        "id": "uY0EvIkhrPnw"
      }
    },
    {
      "cell_type": "markdown",
      "source": [
        "Посмотрим на вещи с плохим рейтингом:"
      ],
      "metadata": {
        "id": "3xaNPCFmrPnw"
      }
    },
    {
      "cell_type": "code",
      "source": [
        "train_data[train_data['Rating'] <= 2].groupby(['Rating', 'Recommended IND'], as_index=False) \\\n",
        "                                     .agg({'Recommended IND': 'count'})"
      ],
      "metadata": {
        "execution": {
          "iopub.status.busy": "2024-08-21T15:19:51.154386Z",
          "iopub.execute_input": "2024-08-21T15:19:51.155192Z",
          "iopub.status.idle": "2024-08-21T15:19:51.171670Z",
          "shell.execute_reply.started": "2024-08-21T15:19:51.155162Z",
          "shell.execute_reply": "2024-08-21T15:19:51.170882Z"
        },
        "trusted": true,
        "id": "J-3WFMdZrPnx",
        "outputId": "55592795-bef8-41e5-9146-9cc82a70e45f"
      },
      "execution_count": null,
      "outputs": [
        {
          "execution_count": 13,
          "output_type": "execute_result",
          "data": {
            "text/plain": "   Rating  Recommended IND\n0       1              684\n1       1                7\n2       2             1280\n3       2               80",
            "text/html": "<div>\n<style scoped>\n    .dataframe tbody tr th:only-of-type {\n        vertical-align: middle;\n    }\n\n    .dataframe tbody tr th {\n        vertical-align: top;\n    }\n\n    .dataframe thead th {\n        text-align: right;\n    }\n</style>\n<table border=\"1\" class=\"dataframe\">\n  <thead>\n    <tr style=\"text-align: right;\">\n      <th></th>\n      <th>Rating</th>\n      <th>Recommended IND</th>\n    </tr>\n  </thead>\n  <tbody>\n    <tr>\n      <th>0</th>\n      <td>1</td>\n      <td>684</td>\n    </tr>\n    <tr>\n      <th>1</th>\n      <td>1</td>\n      <td>7</td>\n    </tr>\n    <tr>\n      <th>2</th>\n      <td>2</td>\n      <td>1280</td>\n    </tr>\n    <tr>\n      <th>3</th>\n      <td>2</td>\n      <td>80</td>\n    </tr>\n  </tbody>\n</table>\n</div>"
          },
          "metadata": {}
        }
      ]
    },
    {
      "cell_type": "code",
      "source": [
        "train_data[(train_data['Rating'] == 2) & (train_data['Recommended IND'] == 1)]"
      ],
      "metadata": {
        "execution": {
          "iopub.status.busy": "2024-08-21T15:19:51.305456Z",
          "iopub.execute_input": "2024-08-21T15:19:51.305836Z",
          "iopub.status.idle": "2024-08-21T15:19:51.324528Z",
          "shell.execute_reply.started": "2024-08-21T15:19:51.305810Z",
          "shell.execute_reply": "2024-08-21T15:19:51.323446Z"
        },
        "trusted": true,
        "id": "Jieb2V60rPnx",
        "outputId": "a3271c04-77a6-49a3-f214-076c7809138e"
      },
      "execution_count": null,
      "outputs": [
        {
          "execution_count": 14,
          "output_type": "execute_result",
          "data": {
            "text/plain": "       Clothing ID  Age                                     Title  \\\n503            948   40                                 Itchytown   \n829            895   30                        Sent to me damaged   \n1027          1047   34                   Not for every body type   \n1063           949   44  I wanted to love this sweater, but......   \n1316           836   35                    I wanted to love it...   \n...            ...  ...                                       ...   \n22824         1020   57                                 Looooong.   \n22989         1008   34             Everyday skirt, but just okay   \n23282         1028   59                                Sizing off   \n23320          640   40    Beautiful dress but it runs very large   \n23375         1110   37                Love it but have to return   \n\n                                             Review Text  Rating  \\\n503    Is not a place i want to be, even if the style...       2   \n829    I ordered the in the emerald green and it was ...       2   \n1027   I am 5'6\", 130 lbs with an athletic body type ...       2   \n1063   This is a beautiful sweater with deep rich col...       2   \n1316   I really like the look of the top when it is p...       2   \n...                                                  ...     ...   \n22824  1. i'm 5'6\" tall with a short waist and long l...       2   \n22989  The reason for the title above is this skirt d...       2   \n23282  So after reading the 2 reviews, decided to jus...       2   \n23320  I love the look of this dress but it runs very...       2   \n23375  I love this dress but i will return it because...       2   \n\n       Recommended IND  Positive Feedback Count   Division Name  \\\n503                  1                        0  General Petite   \n829                  1                        0         General   \n1027                 1                        0         General   \n1063                 1                        1         General   \n1316                 1                        8         General   \n...                ...                      ...             ...   \n22824                1                        8  General Petite   \n22989                1                       13  General Petite   \n23282                1                        0  General Petite   \n23320                1                        0  General Petite   \n23375                1                        5  General Petite   \n\n      Department Name  Class Name  \n503              Tops    Sweaters  \n829              Tops  Fine gauge  \n1027          Bottoms       Pants  \n1063             Tops    Sweaters  \n1316             Tops     Blouses  \n...               ...         ...  \n22824         Bottoms      Skirts  \n22989         Bottoms      Skirts  \n23282         Bottoms       Jeans  \n23320        Intimate      Lounge  \n23375         Dresses     Dresses  \n\n[80 rows x 10 columns]",
            "text/html": "<div>\n<style scoped>\n    .dataframe tbody tr th:only-of-type {\n        vertical-align: middle;\n    }\n\n    .dataframe tbody tr th {\n        vertical-align: top;\n    }\n\n    .dataframe thead th {\n        text-align: right;\n    }\n</style>\n<table border=\"1\" class=\"dataframe\">\n  <thead>\n    <tr style=\"text-align: right;\">\n      <th></th>\n      <th>Clothing ID</th>\n      <th>Age</th>\n      <th>Title</th>\n      <th>Review Text</th>\n      <th>Rating</th>\n      <th>Recommended IND</th>\n      <th>Positive Feedback Count</th>\n      <th>Division Name</th>\n      <th>Department Name</th>\n      <th>Class Name</th>\n    </tr>\n  </thead>\n  <tbody>\n    <tr>\n      <th>503</th>\n      <td>948</td>\n      <td>40</td>\n      <td>Itchytown</td>\n      <td>Is not a place i want to be, even if the style...</td>\n      <td>2</td>\n      <td>1</td>\n      <td>0</td>\n      <td>General Petite</td>\n      <td>Tops</td>\n      <td>Sweaters</td>\n    </tr>\n    <tr>\n      <th>829</th>\n      <td>895</td>\n      <td>30</td>\n      <td>Sent to me damaged</td>\n      <td>I ordered the in the emerald green and it was ...</td>\n      <td>2</td>\n      <td>1</td>\n      <td>0</td>\n      <td>General</td>\n      <td>Tops</td>\n      <td>Fine gauge</td>\n    </tr>\n    <tr>\n      <th>1027</th>\n      <td>1047</td>\n      <td>34</td>\n      <td>Not for every body type</td>\n      <td>I am 5'6\", 130 lbs with an athletic body type ...</td>\n      <td>2</td>\n      <td>1</td>\n      <td>0</td>\n      <td>General</td>\n      <td>Bottoms</td>\n      <td>Pants</td>\n    </tr>\n    <tr>\n      <th>1063</th>\n      <td>949</td>\n      <td>44</td>\n      <td>I wanted to love this sweater, but......</td>\n      <td>This is a beautiful sweater with deep rich col...</td>\n      <td>2</td>\n      <td>1</td>\n      <td>1</td>\n      <td>General</td>\n      <td>Tops</td>\n      <td>Sweaters</td>\n    </tr>\n    <tr>\n      <th>1316</th>\n      <td>836</td>\n      <td>35</td>\n      <td>I wanted to love it...</td>\n      <td>I really like the look of the top when it is p...</td>\n      <td>2</td>\n      <td>1</td>\n      <td>8</td>\n      <td>General</td>\n      <td>Tops</td>\n      <td>Blouses</td>\n    </tr>\n    <tr>\n      <th>...</th>\n      <td>...</td>\n      <td>...</td>\n      <td>...</td>\n      <td>...</td>\n      <td>...</td>\n      <td>...</td>\n      <td>...</td>\n      <td>...</td>\n      <td>...</td>\n      <td>...</td>\n    </tr>\n    <tr>\n      <th>22824</th>\n      <td>1020</td>\n      <td>57</td>\n      <td>Looooong.</td>\n      <td>1. i'm 5'6\" tall with a short waist and long l...</td>\n      <td>2</td>\n      <td>1</td>\n      <td>8</td>\n      <td>General Petite</td>\n      <td>Bottoms</td>\n      <td>Skirts</td>\n    </tr>\n    <tr>\n      <th>22989</th>\n      <td>1008</td>\n      <td>34</td>\n      <td>Everyday skirt, but just okay</td>\n      <td>The reason for the title above is this skirt d...</td>\n      <td>2</td>\n      <td>1</td>\n      <td>13</td>\n      <td>General Petite</td>\n      <td>Bottoms</td>\n      <td>Skirts</td>\n    </tr>\n    <tr>\n      <th>23282</th>\n      <td>1028</td>\n      <td>59</td>\n      <td>Sizing off</td>\n      <td>So after reading the 2 reviews, decided to jus...</td>\n      <td>2</td>\n      <td>1</td>\n      <td>0</td>\n      <td>General Petite</td>\n      <td>Bottoms</td>\n      <td>Jeans</td>\n    </tr>\n    <tr>\n      <th>23320</th>\n      <td>640</td>\n      <td>40</td>\n      <td>Beautiful dress but it runs very large</td>\n      <td>I love the look of this dress but it runs very...</td>\n      <td>2</td>\n      <td>1</td>\n      <td>0</td>\n      <td>General Petite</td>\n      <td>Intimate</td>\n      <td>Lounge</td>\n    </tr>\n    <tr>\n      <th>23375</th>\n      <td>1110</td>\n      <td>37</td>\n      <td>Love it but have to return</td>\n      <td>I love this dress but i will return it because...</td>\n      <td>2</td>\n      <td>1</td>\n      <td>5</td>\n      <td>General Petite</td>\n      <td>Dresses</td>\n      <td>Dresses</td>\n    </tr>\n  </tbody>\n</table>\n<p>80 rows × 10 columns</p>\n</div>"
          },
          "metadata": {}
        }
      ]
    },
    {
      "cell_type": "markdown",
      "source": [
        "Просмотрев данные вручную можно заметить, что есть отзывы, скорее, негативные, но рекомендация остается <p>\n",
        "**Но так как задача состоит не в определении тональности, оставим все как есть**"
      ],
      "metadata": {
        "id": "1mMT9K0ArPnx"
      }
    },
    {
      "cell_type": "markdown",
      "source": [
        "Посмторим на то, влияет ли возраст покупателя на рекомендацию"
      ],
      "metadata": {
        "id": "i-0uScaprPny"
      }
    },
    {
      "cell_type": "code",
      "source": [
        "train_data.groupby(['Age', 'Recommended IND']).agg({'Recommended IND': 'count'})"
      ],
      "metadata": {
        "execution": {
          "iopub.status.busy": "2024-08-21T15:19:52.617322Z",
          "iopub.execute_input": "2024-08-21T15:19:52.618081Z",
          "iopub.status.idle": "2024-08-21T15:19:52.635618Z",
          "shell.execute_reply.started": "2024-08-21T15:19:52.618044Z",
          "shell.execute_reply": "2024-08-21T15:19:52.634558Z"
        },
        "trusted": true,
        "id": "jMBP2zzTrPny",
        "outputId": "4f80d756-45fa-4743-d188-38e36040b604"
      },
      "execution_count": null,
      "outputs": [
        {
          "execution_count": 15,
          "output_type": "execute_result",
          "data": {
            "text/plain": "                     Recommended IND\nAge Recommended IND                 \n18  1                              4\n19  0                              5\n    1                             23\n20  0                             13\n    1                             78\n...                              ...\n91  0                              3\n92  1                              1\n93  1                              2\n94  1                              1\n99  1                              1\n\n[143 rows x 1 columns]",
            "text/html": "<div>\n<style scoped>\n    .dataframe tbody tr th:only-of-type {\n        vertical-align: middle;\n    }\n\n    .dataframe tbody tr th {\n        vertical-align: top;\n    }\n\n    .dataframe thead th {\n        text-align: right;\n    }\n</style>\n<table border=\"1\" class=\"dataframe\">\n  <thead>\n    <tr style=\"text-align: right;\">\n      <th></th>\n      <th></th>\n      <th>Recommended IND</th>\n    </tr>\n    <tr>\n      <th>Age</th>\n      <th>Recommended IND</th>\n      <th></th>\n    </tr>\n  </thead>\n  <tbody>\n    <tr>\n      <th>18</th>\n      <th>1</th>\n      <td>4</td>\n    </tr>\n    <tr>\n      <th rowspan=\"2\" valign=\"top\">19</th>\n      <th>0</th>\n      <td>5</td>\n    </tr>\n    <tr>\n      <th>1</th>\n      <td>23</td>\n    </tr>\n    <tr>\n      <th rowspan=\"2\" valign=\"top\">20</th>\n      <th>0</th>\n      <td>13</td>\n    </tr>\n    <tr>\n      <th>1</th>\n      <td>78</td>\n    </tr>\n    <tr>\n      <th>...</th>\n      <th>...</th>\n      <td>...</td>\n    </tr>\n    <tr>\n      <th>91</th>\n      <th>0</th>\n      <td>3</td>\n    </tr>\n    <tr>\n      <th>92</th>\n      <th>1</th>\n      <td>1</td>\n    </tr>\n    <tr>\n      <th>93</th>\n      <th>1</th>\n      <td>2</td>\n    </tr>\n    <tr>\n      <th>94</th>\n      <th>1</th>\n      <td>1</td>\n    </tr>\n    <tr>\n      <th>99</th>\n      <th>1</th>\n      <td>1</td>\n    </tr>\n  </tbody>\n</table>\n<p>143 rows × 1 columns</p>\n</div>"
          },
          "metadata": {}
        }
      ]
    },
    {
      "cell_type": "code",
      "source": [
        "pd.Series(sorted(train_data['Age'])).plot()"
      ],
      "metadata": {
        "execution": {
          "iopub.status.busy": "2024-08-21T15:19:52.765049Z",
          "iopub.execute_input": "2024-08-21T15:19:52.765403Z",
          "iopub.status.idle": "2024-08-21T15:19:53.088983Z",
          "shell.execute_reply.started": "2024-08-21T15:19:52.765373Z",
          "shell.execute_reply": "2024-08-21T15:19:53.088007Z"
        },
        "trusted": true,
        "id": "zdH_oUk1rPny",
        "outputId": "19b6cd10-1747-4987-c51b-3c035e5367ab"
      },
      "execution_count": null,
      "outputs": [
        {
          "execution_count": 16,
          "output_type": "execute_result",
          "data": {
            "text/plain": "<Axes: >"
          },
          "metadata": {}
        },
        {
          "output_type": "display_data",
          "data": {
            "text/plain": "<Figure size 640x480 with 1 Axes>",
            "image/png": "[encoded data removed]"
          },
          "metadata": {}
        }
      ]
    },
    {
      "cell_type": "markdown",
      "source": [
        "## Text processing"
      ],
      "metadata": {
        "id": "Zy_3Su6srPny"
      }
    },
    {
      "cell_type": "code",
      "source": [
        "text_columns = ['Review Text',\n",
        "                'Recommended IND'\n",
        "                ]"
      ],
      "metadata": {
        "execution": {
          "iopub.status.busy": "2024-08-21T15:22:56.587874Z",
          "iopub.execute_input": "2024-08-21T15:22:56.588736Z",
          "iopub.status.idle": "2024-08-21T15:22:56.592556Z",
          "shell.execute_reply.started": "2024-08-21T15:22:56.588705Z",
          "shell.execute_reply": "2024-08-21T15:22:56.591706Z"
        },
        "trusted": true,
        "id": "s8Pi1J2YrPnz"
      },
      "execution_count": null,
      "outputs": []
    },
    {
      "cell_type": "code",
      "source": [
        "text_data = train_data[text_columns].copy()\n",
        "text_data.head()"
      ],
      "metadata": {
        "execution": {
          "iopub.status.busy": "2024-08-21T15:22:57.039263Z",
          "iopub.execute_input": "2024-08-21T15:22:57.039711Z",
          "iopub.status.idle": "2024-08-21T15:22:57.051698Z",
          "shell.execute_reply.started": "2024-08-21T15:22:57.039681Z",
          "shell.execute_reply": "2024-08-21T15:22:57.050756Z"
        },
        "trusted": true,
        "id": "Kb55Iq5ArPnz",
        "outputId": "62f7ff25-8b5a-4534-f2e8-9704494d4024"
      },
      "execution_count": null,
      "outputs": [
        {
          "execution_count": 37,
          "output_type": "execute_result",
          "data": {
            "text/plain": "                                         Review Text  Recommended IND\n2  I had such high hopes for this dress and reall...                0\n3  I love, love, love this jumpsuit. it's fun, fl...                1\n4  This shirt is very flattering to all due to th...                1\n5  I love tracy reese dresses, but this one is no...                0\n6  I aded this in my basket at hte last mintue to...                1",
            "text/html": "<div>\n<style scoped>\n    .dataframe tbody tr th:only-of-type {\n        vertical-align: middle;\n    }\n\n    .dataframe tbody tr th {\n        vertical-align: top;\n    }\n\n    .dataframe thead th {\n        text-align: right;\n    }\n</style>\n<table border=\"1\" class=\"dataframe\">\n  <thead>\n    <tr style=\"text-align: right;\">\n      <th></th>\n      <th>Review Text</th>\n      <th>Recommended IND</th>\n    </tr>\n  </thead>\n  <tbody>\n    <tr>\n      <th>2</th>\n      <td>I had such high hopes for this dress and reall...</td>\n      <td>0</td>\n    </tr>\n    <tr>\n      <th>3</th>\n      <td>I love, love, love this jumpsuit. it's fun, fl...</td>\n      <td>1</td>\n    </tr>\n    <tr>\n      <th>4</th>\n      <td>This shirt is very flattering to all due to th...</td>\n      <td>1</td>\n    </tr>\n    <tr>\n      <th>5</th>\n      <td>I love tracy reese dresses, but this one is no...</td>\n      <td>0</td>\n    </tr>\n    <tr>\n      <th>6</th>\n      <td>I aded this in my basket at hte last mintue to...</td>\n      <td>1</td>\n    </tr>\n  </tbody>\n</table>\n</div>"
          },
          "metadata": {}
        }
      ]
    },
    {
      "cell_type": "code",
      "source": [
        "nltk.download(\"stopwords\")\n",
        "nltk.download('punkt')\n",
        "eng_stopwords = stopwords.words(\"english\")"
      ],
      "metadata": {
        "execution": {
          "iopub.status.busy": "2024-08-21T15:22:57.410118Z",
          "iopub.execute_input": "2024-08-21T15:22:57.411006Z",
          "iopub.status.idle": "2024-08-21T15:22:57.417131Z",
          "shell.execute_reply.started": "2024-08-21T15:22:57.410958Z",
          "shell.execute_reply": "2024-08-21T15:22:57.416138Z"
        },
        "trusted": true,
        "id": "370jD2ZYrPnz",
        "outputId": "f5a1d0c5-0d9e-471f-f237-a2a8d5ead5be"
      },
      "execution_count": null,
      "outputs": [
        {
          "name": "stdout",
          "text": "[nltk_data] Downloading package stopwords to /usr/share/nltk_data...\n[nltk_data]   Package stopwords is already up-to-date!\n[nltk_data] Downloading package punkt to /usr/share/nltk_data...\n[nltk_data]   Package punkt is already up-to-date!\n",
          "output_type": "stream"
        }
      ]
    },
    {
      "cell_type": "code",
      "source": [
        "def preprocess_text(text):\n",
        "    text = text.lower()\n",
        "    text = re.sub(r'@\\w+|#[\\w-]+|http\\S+|\\n', '', text)\n",
        "    text = re.sub(r'[^\\w\\s]', ' ', text)\n",
        "    words = word_tokenize(text, language='english')\n",
        "    words = [word for word in words if not re.match(r'^_+$', word)]\n",
        "\n",
        "    # Исключение стоп-слов можно сделать опциональным т.к. иногда искажает смысл\n",
        "\n",
        "    return ' '.join(words)\n",
        "\n",
        "# Посмотрим на обработанные тексты\n",
        "for i in np.random.randint(0, len(train_data)):\n",
        "    print('Ориг:', train_data['Review Text'][i])\n",
        "    print('Чист:', preprocess_text(train_data['Review Text'][i]), '\\n')"
      ],
      "metadata": {
        "execution": {
          "iopub.status.busy": "2024-08-21T15:22:57.638202Z",
          "iopub.execute_input": "2024-08-21T15:22:57.638834Z",
          "iopub.status.idle": "2024-08-21T15:22:57.645895Z",
          "shell.execute_reply.started": "2024-08-21T15:22:57.638800Z",
          "shell.execute_reply": "2024-08-21T15:22:57.644880Z"
        },
        "trusted": true,
        "id": "Dox9OZ6QrPn0"
      },
      "execution_count": null,
      "outputs": []
    },
    {
      "cell_type": "code",
      "source": [
        "text_data['Review Text'] = text_data['Review Text'].apply(preprocess_text)\n",
        "text_data.rename(columns={'Review Text': 'text', 'Recommended IND': 'labels'}, inplace=True)\n",
        "text_data.head()"
      ],
      "metadata": {
        "execution": {
          "iopub.status.busy": "2024-08-21T15:22:57.801631Z",
          "iopub.execute_input": "2024-08-21T15:22:57.802336Z",
          "iopub.status.idle": "2024-08-21T15:23:10.256374Z",
          "shell.execute_reply.started": "2024-08-21T15:22:57.802304Z",
          "shell.execute_reply": "2024-08-21T15:23:10.255437Z"
        },
        "trusted": true,
        "id": "WADDW87XrPn0",
        "outputId": "31043d51-f80c-48f0-bc9f-8da5033e7152"
      },
      "execution_count": null,
      "outputs": [
        {
          "execution_count": 40,
          "output_type": "execute_result",
          "data": {
            "text/plain": "                                                text  labels\n2  i had such high hopes for this dress and reall...       0\n3  i love love love this jumpsuit it s fun flirty...       1\n4  this shirt is very flattering to all due to th...       1\n5  i love tracy reese dresses but this one is not...       0\n6  i aded this in my basket at hte last mintue to...       1",
            "text/html": "<div>\n<style scoped>\n    .dataframe tbody tr th:only-of-type {\n        vertical-align: middle;\n    }\n\n    .dataframe tbody tr th {\n        vertical-align: top;\n    }\n\n    .dataframe thead th {\n        text-align: right;\n    }\n</style>\n<table border=\"1\" class=\"dataframe\">\n  <thead>\n    <tr style=\"text-align: right;\">\n      <th></th>\n      <th>text</th>\n      <th>labels</th>\n    </tr>\n  </thead>\n  <tbody>\n    <tr>\n      <th>2</th>\n      <td>i had such high hopes for this dress and reall...</td>\n      <td>0</td>\n    </tr>\n    <tr>\n      <th>3</th>\n      <td>i love love love this jumpsuit it s fun flirty...</td>\n      <td>1</td>\n    </tr>\n    <tr>\n      <th>4</th>\n      <td>this shirt is very flattering to all due to th...</td>\n      <td>1</td>\n    </tr>\n    <tr>\n      <th>5</th>\n      <td>i love tracy reese dresses but this one is not...</td>\n      <td>0</td>\n    </tr>\n    <tr>\n      <th>6</th>\n      <td>i aded this in my basket at hte last mintue to...</td>\n      <td>1</td>\n    </tr>\n  </tbody>\n</table>\n</div>"
          },
          "metadata": {}
        }
      ]
    },
    {
      "cell_type": "code",
      "source": [
        "# сохраним обработанные тексты\n",
        "text_data.to_csv('text_data.csv', index=False)"
      ],
      "metadata": {
        "execution": {
          "iopub.status.busy": "2024-08-21T15:23:10.258360Z",
          "iopub.execute_input": "2024-08-21T15:23:10.258933Z",
          "iopub.status.idle": "2024-08-21T15:23:10.529228Z",
          "shell.execute_reply.started": "2024-08-21T15:23:10.258894Z",
          "shell.execute_reply": "2024-08-21T15:23:10.528237Z"
        },
        "trusted": true,
        "id": "gDYdbhHorPn0"
      },
      "execution_count": null,
      "outputs": []
    },
    {
      "cell_type": "markdown",
      "source": [
        "# Training"
      ],
      "metadata": {
        "id": "S5OrMx4nrPn0"
      }
    },
    {
      "cell_type": "code",
      "source": [
        "text_data['text'].apply(len).median()"
      ],
      "metadata": {
        "execution": {
          "iopub.status.busy": "2024-08-21T15:23:10.530651Z",
          "iopub.execute_input": "2024-08-21T15:23:10.531371Z",
          "iopub.status.idle": "2024-08-21T15:23:10.551642Z",
          "shell.execute_reply.started": "2024-08-21T15:23:10.531336Z",
          "shell.execute_reply": "2024-08-21T15:23:10.550767Z"
        },
        "trusted": true,
        "id": "90SPYxpSrPn1",
        "outputId": "64696808-9574-4343-e981-48ef4b60ab44"
      },
      "execution_count": null,
      "outputs": [
        {
          "execution_count": 42,
          "output_type": "execute_result",
          "data": {
            "text/plain": "306.0"
          },
          "metadata": {}
        }
      ]
    },
    {
      "cell_type": "code",
      "source": [
        "model_name = \"google-bert/bert-base-cased\"\n",
        "\n",
        "tokenizer = AutoTokenizer.from_pretrained(model_name)\n",
        "model = AutoModelForSequenceClassification.from_pretrained(model_name, num_labels=2)"
      ],
      "metadata": {
        "execution": {
          "iopub.status.busy": "2024-08-21T15:23:10.553343Z",
          "iopub.execute_input": "2024-08-21T15:23:10.553657Z",
          "iopub.status.idle": "2024-08-21T15:23:11.061257Z",
          "shell.execute_reply.started": "2024-08-21T15:23:10.553609Z",
          "shell.execute_reply": "2024-08-21T15:23:11.060518Z"
        },
        "trusted": true,
        "id": "ZfZ-7CoerPn1"
      },
      "execution_count": null,
      "outputs": []
    },
    {
      "cell_type": "code",
      "source": [
        "device = torch.device(\"cuda\" if torch.cuda.is_available() else \"cpu\")\n",
        "model.to(device)"
      ],
      "metadata": {
        "execution": {
          "iopub.status.busy": "2024-08-21T15:23:11.062359Z",
          "iopub.execute_input": "2024-08-21T15:23:11.062662Z",
          "iopub.status.idle": "2024-08-21T15:23:11.191867Z",
          "shell.execute_reply.started": "2024-08-21T15:23:11.062626Z",
          "shell.execute_reply": "2024-08-21T15:23:11.190969Z"
        },
        "trusted": true,
        "id": "3Y_qS_-srPn1"
      },
      "execution_count": null,
      "outputs": []
    },
    {
      "cell_type": "code",
      "source": [
        "full_dataset = load_dataset('csv', data_files='/kaggle/working/text_data.csv')\n",
        "# full_dataset = full_dataset.filter(lambda example: example['text'] is not None and example['labels'] is not None)\n",
        "\n",
        "dataset = full_dataset['train'].train_test_split(test_size=0.3)\n",
        "dataset"
      ],
      "metadata": {
        "execution": {
          "iopub.status.busy": "2024-08-21T15:23:28.686422Z",
          "iopub.execute_input": "2024-08-21T15:23:28.687146Z",
          "iopub.status.idle": "2024-08-21T15:23:29.261589Z",
          "shell.execute_reply.started": "2024-08-21T15:23:28.687111Z",
          "shell.execute_reply": "2024-08-21T15:23:29.260551Z"
        },
        "trusted": true,
        "colab": {
          "referenced_widgets": [
            "0b3c6e360ac54d3480095fc3a8d02ea5",
            "16f88c6d4d6a4f57a12261b8831474ac"
          ]
        },
        "id": "m7Z269i4rPn1",
        "outputId": "d12cc39e-eb2c-45fd-a30c-c41c35764c59"
      },
      "execution_count": null,
      "outputs": [
        {
          "output_type": "display_data",
          "data": {
            "text/plain": "Generating train split: 0 examples [00:00, ? examples/s]",
            "application/vnd.jupyter.widget-view+json": {
              "version_major": 2,
              "version_minor": 0,
              "model_id": "0b3c6e360ac54d3480095fc3a8d02ea5"
            }
          },
          "metadata": {}
        },
        {
          "output_type": "display_data",
          "data": {
            "text/plain": "Filter:   0%|          | 0/19662 [00:00<?, ? examples/s]",
            "application/vnd.jupyter.widget-view+json": {
              "version_major": 2,
              "version_minor": 0,
              "model_id": "16f88c6d4d6a4f57a12261b8831474ac"
            }
          },
          "metadata": {}
        },
        {
          "execution_count": 45,
          "output_type": "execute_result",
          "data": {
            "text/plain": "DatasetDict({\n    train: Dataset({\n        features: ['text', 'labels'],\n        num_rows: 13763\n    })\n    test: Dataset({\n        features: ['text', 'labels'],\n        num_rows: 5899\n    })\n})"
          },
          "metadata": {}
        }
      ]
    },
    {
      "cell_type": "code",
      "source": [
        "dataset = dataset.map(lambda e:\n",
        "                      tokenizer(e['text'],\n",
        "                                truncation = True,\n",
        "                                max_length=306,\n",
        "                                padding='max_length'), batched=True)\n",
        "\n",
        "dataset = dataset.remove_columns('text')\n",
        "dataset.set_format(type='torch', device='cuda')"
      ],
      "metadata": {
        "execution": {
          "iopub.status.busy": "2024-08-21T15:23:31.758325Z",
          "iopub.execute_input": "2024-08-21T15:23:31.758706Z",
          "iopub.status.idle": "2024-08-21T15:23:37.451901Z",
          "shell.execute_reply.started": "2024-08-21T15:23:31.758676Z",
          "shell.execute_reply": "2024-08-21T15:23:37.450951Z"
        },
        "trusted": true,
        "id": "ELc1gdbRrPn7"
      },
      "execution_count": null,
      "outputs": []
    },
    {
      "cell_type": "code",
      "source": [
        "import torch\n",
        "from torch.utils.data import DataLoader\n",
        "\n",
        "# создаем загрузчики данных\n",
        "train_dataloader = DataLoader(dataset['train'], shuffle=True, batch_size=16)\n",
        "test_dataloader = DataLoader(dataset['test'], shuffle=False, batch_size=8)"
      ],
      "metadata": {
        "execution": {
          "iopub.status.busy": "2024-08-21T15:23:46.380160Z",
          "iopub.execute_input": "2024-08-21T15:23:46.380539Z",
          "iopub.status.idle": "2024-08-21T15:23:46.385861Z",
          "shell.execute_reply.started": "2024-08-21T15:23:46.380511Z",
          "shell.execute_reply": "2024-08-21T15:23:46.384839Z"
        },
        "trusted": true,
        "id": "g715PoJUrPn8"
      },
      "execution_count": null,
      "outputs": []
    },
    {
      "cell_type": "code",
      "source": [
        "from transformers import AdamW, get_scheduler\n",
        "\n",
        "# оптимизатор AdamW, лр стоит поперебирать\n",
        "optimizer = AdamW(model.parameters(), lr=1e-4)\n",
        "num_epochs = 3\n",
        "# количество шагов\n",
        "num_training_steps = num_epochs * len(train_dataloader)"
      ],
      "metadata": {
        "execution": {
          "iopub.status.busy": "2024-08-21T15:30:28.477659Z",
          "iopub.execute_input": "2024-08-21T15:30:28.478314Z",
          "iopub.status.idle": "2024-08-21T15:30:28.486688Z",
          "shell.execute_reply.started": "2024-08-21T15:30:28.478280Z",
          "shell.execute_reply": "2024-08-21T15:30:28.485785Z"
        },
        "trusted": true,
        "id": "3ax5q_yzrPn8"
      },
      "execution_count": null,
      "outputs": []
    },
    {
      "cell_type": "code",
      "source": [
        "lr_scheduler = get_scheduler(\n",
        "    \"cosine\",\n",
        "    optimizer=optimizer,\n",
        "    num_warmup_steps= int(0.1 * num_epochs * len(train_dataloader)),\n",
        "    num_training_steps=num_training_steps\n",
        ")"
      ],
      "metadata": {
        "execution": {
          "iopub.status.busy": "2024-08-21T15:30:30.941737Z",
          "iopub.execute_input": "2024-08-21T15:30:30.942437Z",
          "iopub.status.idle": "2024-08-21T15:30:30.947311Z",
          "shell.execute_reply.started": "2024-08-21T15:30:30.942406Z",
          "shell.execute_reply": "2024-08-21T15:30:30.946145Z"
        },
        "trusted": true,
        "id": "dnuIPpLCrPn9"
      },
      "execution_count": null,
      "outputs": []
    },
    {
      "cell_type": "code",
      "source": [
        "best_f1 = 0.\n",
        "running_loss = []\n",
        "\n",
        "for epoch in range(num_epochs):\n",
        "    print(40*'-', f'\\nEpoch {epoch+1}')\n",
        "\n",
        "    # Переводим модель в режим обучения\n",
        "    model.train()\n",
        "    pbar = tqdm(train_dataloader, total=len(train_dataloader), desc='Training')\n",
        "\n",
        "    for i, batch in enumerate(pbar):\n",
        "\n",
        "        batch = {k: v.to(device) for k, v in batch.items()}\n",
        "        outputs = model(**batch)\n",
        "        loss = outputs.loss\n",
        "\n",
        "        loss.backward()\n",
        "        optimizer.step()\n",
        "        lr_scheduler.step()\n",
        "        optimizer.zero_grad()\n",
        "\n",
        "        running_loss.append(loss.item())\n",
        "        pbar.set_postfix({'running_loss': np.mean(running_loss[-25:])})\n",
        "\n",
        "    # Валидация модели\n",
        "    print('\\nValidating...')\n",
        "    model.eval()\n",
        "\n",
        "    f1 = load_metric('f1', trust_remote_code=True)\n",
        "    acc = load_metric('accuracy', trust_remote_code=True)\n",
        "    precision = load_metric('precision', trust_remote_code=True)\n",
        "    recall = load_metric('recall', trust_remote_code=True)\n",
        "\n",
        "    val_loss = []\n",
        "\n",
        "    pbar = tqdm(test_dataloader, total=len(test_dataloader), desc='Validation')\n",
        "\n",
        "    for batch in tqdm(pbar):\n",
        "        batch = {k: v.to(device) for k, v in batch.items()}\n",
        "\n",
        "        with torch.no_grad():\n",
        "            outputs = model(**batch)\n",
        "\n",
        "        logits = outputs.logits.detach().cpu()\n",
        "        predictions = torch.argmax(logits, dim=-1)\n",
        "\n",
        "        f1.add_batch(predictions=predictions, references=batch[\"labels\"].detach().cpu())\n",
        "        acc.add_batch(predictions=predictions, references=batch[\"labels\"].detach().cpu())\n",
        "        precision.add_batch(predictions=predictions, references=batch[\"labels\"].detach().cpu())\n",
        "        recall.add_batch(predictions=predictions, references=batch[\"labels\"].detach().cpu())\n",
        "\n",
        "        val_loss.append(outputs.loss.item())\n",
        "        pbar.set_postfix({'val_loss': np.mean(val_loss[-25:])})\n",
        "\n",
        "    # Выводим итоги по метрикам\n",
        "    print('Weighted Summary:')\n",
        "    test_acc = acc.compute()['accuracy']\n",
        "    test_precision = precision.compute(average='weighted')['precision']\n",
        "    test_recall = recall.compute(average='weighted')['recall']\n",
        "    f1_weighted = f1.compute(average='weighted')['f1']\n",
        "    print(f'[{epoch+1}] Test Accuracy: {test_acc:.4f}')\n",
        "    print(f'[{epoch+1}] Test Precision: {test_precision:.4f}')\n",
        "    print(f'[{epoch+1}] Test Recall: {test_recall:.4f}')\n",
        "    print(f'[{epoch+1}] Test F1: {f1_weighted:.4f}')\n",
        "\n",
        "    # Сохраняем модель при улучшении F1\n",
        "    if f1_weighted > best_f1:\n",
        "        best_f1 = f1_weighted\n",
        "        model.save_pretrained(f\"best_model_nov_f1_max={best_f1}_len=100\")\n",
        "        print(f\"New best F1: {best_f1}. Model saved.\")"
      ],
      "metadata": {
        "execution": {
          "iopub.status.busy": "2024-08-21T15:30:33.140539Z",
          "iopub.execute_input": "2024-08-21T15:30:33.141153Z",
          "iopub.status.idle": "2024-08-21T15:55:20.171116Z",
          "shell.execute_reply.started": "2024-08-21T15:30:33.141120Z",
          "shell.execute_reply": "2024-08-21T15:55:20.170215Z"
        },
        "trusted": true,
        "id": "9gGGNTeIrPn9"
      },
      "execution_count": null,
      "outputs": []
    }
  ]
}